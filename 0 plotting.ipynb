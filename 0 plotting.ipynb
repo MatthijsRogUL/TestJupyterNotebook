{
 "cells": [
  {
   "cell_type": "markdown",
   "metadata": {},
   "source": [
    "# Plotting a function in Python "
   ]
  },
  {
   "cell_type": "markdown",
   "metadata": {},
   "source": [
    "After this short tutorial, you will be able to do the following things in Python:\n",
    "\n",
    "* assign variables\n",
    "* create arrays\n",
    "* manipulate arrays\n",
    "* plot data\n",
    "* save figures"
   ]
  },
  {
   "cell_type": "markdown",
   "metadata": {},
   "source": [
    "## Jupyter\n",
    "\n",
    "Before we get started first some information about using Jupyter notebooks. The notebook consists of \n",
    "different blocks of python code which we call cells. Using the arrow keys you can select a cell.\n",
    "\n",
    "Sometimes you will have to edit the code in the cells.\n",
    "To edit the contents of a cell click somewhere in the code of the cell. To execute the code press <b>CTRL+Enter</b>.\n",
    "\n",
    "<i>All keyboard shortcuts can be found by pressing the small keyboard in the menu bar. Many of these functions are also accessible using the mouse and the menu bar. Moving the cursor to a function and pressing shift+tab gives information about the function.</i>"
   ]
  },
  {
   "cell_type": "markdown",
   "metadata": {},
   "source": [
    "## The actual program\n",
    "Here we clear all variables and import some packages which we will use later on (select the cell below and press <b>CTRL+Enter</b> to run it). You do not need to understand this yet. You will learn what this means during your Python course in the first year or you can read the comments for some explanation or explore the accompanying websites: http://numpy.org/ & https://matplotlib.org/3.1.1/tutorials/introductory/pyplot.html."
   ]
  },
  {
   "cell_type": "code",
   "execution_count": null,
   "metadata": {
    "collapsed": true
   },
   "outputs": [],
   "source": [
    "# Clear all variables\n",
    "\n",
    "%clear\n",
    "\n",
    "# One major feature of the IPython kernel is the ability to display plots that are the output of running code cells.\n",
    "# The IPython kernel is designed to work seamlessly with the matplotlib plotting library to provide this functionality.\n",
    "# To set this up, before any plotting or import of matplotlib is performed you must execute the \n",
    "# %matplotlib magic command.\n",
    "# This performs the necessary behind-the-scenes setup for IPython to work correctly hand in hand with matplotlib;\n",
    "# It does not, however, actually execute any Python import commands, that is, no names are added to the namespace.\n",
    "\n",
    "%matplotlib inline\n",
    "\n",
    "# Numpy is the fundamental package for scientific computing with Python: http://numpy.org/\n",
    "# Numpy provides support to mathematically manipulate large, multi-dimensional arrays and matrices.\n",
    "# By importing this library in this way you can call all functions of numpy with the abbreviation np:\n",
    "# For example, np.arange to place a series of numbers in an array.\n",
    "\n",
    "import numpy as np\n",
    "\n",
    "# Throughout your studies you will most likely use matplotlib.pyplot to plot any graph you need to\n",
    "# illustrate your research: https://matplotlib.org/3.1.1/tutorials/introductory/pyplot.html\n",
    "# matplotlib.pyplot is a collection of command style functions that make matplotlib work like MATLAB.\n",
    "# Each pyplot function makes some change to a figure: e.g., creates a figure, creates a plotting area in a figure,\n",
    "# plots some lines in a plotting area, decorates the plot with labels, etc.\n",
    "\n",
    "import matplotlib.pyplot as plt\n",
    "\n",
    "# We use the datetime library so we can easily add a datestamp to the names of the figures we are going to save.\n",
    "\n",
    "from datetime import datetime\n",
    "\n",
    "# Now press CTRL+Enter to run this part of the code."
   ]
  },
  {
   "cell_type": "markdown",
   "metadata": {},
   "source": [
    "<h3>Assign variables</h3>\n",
    "In python we can assign a value to a variable by using the = sign. Here we assign numerical values to the variables a and b. We can also use mathematical operators on variables and assign the result to a new variable."
   ]
  },
  {
   "cell_type": "code",
   "execution_count": null,
   "metadata": {
    "collapsed": true
   },
   "outputs": [],
   "source": [
    "a=3\n",
    "b=5\n",
    "c=a+b\n",
    "d=a*c\n",
    "e=b**2 #This is the notation for b to the power of 2"
   ]
  },
  {
   "cell_type": "markdown",
   "metadata": {},
   "source": [
    "Using the print function we can now show the value of a variable. The input of the print function is given within brackets. The various inputs of a function are called arguments. Alter the print commmand below to check whether the calculations in the previous cell worked.<BR>\n",
    "<i>The print function is very useful in debugging code when it becomes too large to immediately understand what's happening in each line of code.</i>"
   ]
  },
  {
   "cell_type": "code",
   "execution_count": null,
   "metadata": {
    "collapsed": true
   },
   "outputs": [],
   "source": [
    "print(a)"
   ]
  },
  {
   "cell_type": "markdown",
   "metadata": {},
   "source": [
    "Using datetime.now we can print the current date and time."
   ]
  },
  {
   "cell_type": "code",
   "execution_count": null,
   "metadata": {
    "collapsed": true
   },
   "outputs": [],
   "source": [
    "# current date and time\n",
    "now = datetime.now()\n",
    "print(now)"
   ]
  },
  {
   "cell_type": "markdown",
   "metadata": {},
   "source": [
    "<h3>Create arrays</h3>\n",
    "We can also assign more complex forms of data to a variable. Using the function np.arange we can create an array of numbers. The function np.arange takes three arguments: a starting value, a stop value and a stepsize: https://docs.scipy.org/doc/numpy/reference/generated/numpy.arange.html \n",
    "\n",
    "<i>(Note that the function np.arange is part of the numpy package. A package is a collection of functions and other things. We made the numpy package available to the program by importing the numpy package in the first cell. We aliased it as np so we do not need to type numpy.arange but we can suffice with np.arange.)</i>"
   ]
  },
  {
   "cell_type": "code",
   "execution_count": null,
   "metadata": {
    "collapsed": true
   },
   "outputs": [],
   "source": [
    "x=np.arange(-5,5,0.5)\n",
    "print(x)"
   ]
  },
  {
   "cell_type": "code",
   "execution_count": null,
   "metadata": {
    "collapsed": true
   },
   "outputs": [],
   "source": [
    "# Add text underneath this comment to explain how the function np.arange works.\n"
   ]
  },
  {
   "cell_type": "markdown",
   "metadata": {},
   "source": [
    "There are other options to create an array of numbers: e.g. np.linspace & np.logspace. Look those functions up, try them out and add explanations on how they differ from np.arange."
   ]
  },
  {
   "cell_type": "code",
   "execution_count": null,
   "metadata": {
    "collapsed": true
   },
   "outputs": [],
   "source": [
    "# Add text underneath this comment to try out the function np.linspace and explain how it works.\n",
    "\n",
    "\n",
    "# Add text underneath this comment to try out the function np.logspace and explain how it works.\n",
    "\n"
   ]
  },
  {
   "cell_type": "markdown",
   "metadata": {},
   "source": [
    "<h3>Manipulate arrays</h3>\n",
    "Just like with regular variables we can apply mathematical operators to an array. The operators are then applied to every single entry of the array."
   ]
  },
  {
   "cell_type": "code",
   "execution_count": null,
   "metadata": {
    "collapsed": true
   },
   "outputs": [],
   "source": [
    "y=2*x+3\n",
    "print(y)"
   ]
  },
  {
   "cell_type": "markdown",
   "metadata": {},
   "source": [
    "We can also use mathematical operators between two arrays. Check if you understand what happens here:"
   ]
  },
  {
   "cell_type": "code",
   "execution_count": null,
   "metadata": {
    "collapsed": true
   },
   "outputs": [],
   "source": [
    "y2=x**2\n",
    "z = y + y2\n",
    "print(y2)\n",
    "print(z)"
   ]
  },
  {
   "cell_type": "code",
   "execution_count": null,
   "metadata": {
    "collapsed": true
   },
   "outputs": [],
   "source": [
    "# Add text underneath this comment to explain how adding two arrays works.\n"
   ]
  },
  {
   "cell_type": "markdown",
   "metadata": {},
   "source": [
    "<h3>Plot data</h3>\n",
    "Instead of printing the data, we can also plot the data in a graph. For this we use the function plt.plot (which is part of the matplotlib.pyplot package that we imported in the first cell).<BR>\n",
    "<i>You may understand why we aliased that package to p now.</i>"
   ]
  },
  {
   "cell_type": "code",
   "execution_count": null,
   "metadata": {
    "collapsed": true
   },
   "outputs": [],
   "source": [
    "plt.plot(x,y)"
   ]
  },
  {
   "cell_type": "markdown",
   "metadata": {},
   "source": [
    "We can make the plot nicer by adding labels, a title and a caption."
   ]
  },
  {
   "cell_type": "code",
   "execution_count": null,
   "metadata": {
    "collapsed": true
   },
   "outputs": [],
   "source": [
    "plt.plot(x,y)\n",
    "\n",
    "plt.xlabel(\"x (unit of x)\")\n",
    "plt.ylabel(\"y (unit of y)\")\n",
    "plt.title('y vs x')"
   ]
  },
  {
   "cell_type": "markdown",
   "metadata": {},
   "source": [
    "We can add extra graphs, by calling the plot function again."
   ]
  },
  {
   "cell_type": "code",
   "execution_count": null,
   "metadata": {
    "collapsed": true
   },
   "outputs": [],
   "source": [
    "plt.plot(x,y)\n",
    "\n",
    "plt.plot(x,z)\n",
    "\n",
    "plt.xlabel(\"x (unit of x)\")\n",
    "plt.ylabel(\"y (unit of y)\")\n",
    "plt.title('Plot of y & z vs x')\n",
    "\n",
    "plt.text(0,0,\"Just above here to the left is where the 2 graphs touch!\")"
   ]
  },
  {
   "cell_type": "markdown",
   "metadata": {},
   "source": [
    "Adding a legend takes some extra work."
   ]
  },
  {
   "cell_type": "code",
   "execution_count": null,
   "metadata": {
    "collapsed": true
   },
   "outputs": [],
   "source": [
    "# Labels are added for each graph so they can be used in the legend.\n",
    "plt.plot(x,y, label='straight')\n",
    "plt.plot(x,z, label='curved')\n",
    "plt.xlabel(\"x (unit of x)\")\n",
    "plt.ylabel(\"y (unit of y)\")\n",
    "plt.title('Plot of y & z vs x')\n",
    "#plt.text(0,0,\"Just above here to the left is where the 2 graphs touch!\")\n",
    "\n",
    "# Add a legend to the figure.\n",
    "plt.legend()"
   ]
  },
  {
   "cell_type": "markdown",
   "metadata": {},
   "source": [
    "When you start using Python in a program instead of a notebook like this is and you want to create a new figure you can use plt.figure(). "
   ]
  },
  {
   "cell_type": "code",
   "execution_count": null,
   "metadata": {
    "collapsed": true
   },
   "outputs": [],
   "source": [
    "#Plotting the earlier diagram\n",
    "plt.figure()\n",
    "# The label is to be used in the legend.\n",
    "plt.plot(x,y, label='straight')\n",
    "plt.plot(x,z, label='curved')\n",
    "plt.xlabel(\"x (unit of x)\")\n",
    "plt.ylabel(\"y (unit of y)\")\n",
    "plt.title('Plot of y & z vs x')\n",
    "#plt.text(0,0,\"Just above here to the left is where the 2 graphs touch!\")\n",
    "\n",
    "# Add a legend to the figure.\n",
    "plt.legend()\n",
    "\n",
    "#Making another diagram\n",
    "plt.figure()\n",
    "plt.plot(x,y)\n",
    "plt.plot(x,y2)\n",
    "plt.plot(x,z)\n",
    "plt.xlabel(\"x (unit of x)\")\n",
    "plt.ylabel(\"y (unit of y)\")\n",
    "plt.title('Plot of y, y2 & z vs x')"
   ]
  },
  {
   "cell_type": "markdown",
   "metadata": {},
   "source": [
    "<h3>Save figures</h3>\n",
    "The current figure can be saved by using plt.savefig. The image format is derived from the file extension (that is so easy!).<BR>\n",
    "<i>The file is stored in the folder where the notebook is being executed, unless otherwise specified.</i>"
   ]
  },
  {
   "cell_type": "code",
   "execution_count": null,
   "metadata": {
    "collapsed": true
   },
   "outputs": [],
   "source": [
    "#plt.figure()\n",
    "plt.plot(x,y)\n",
    "plt.plot(x,y2)\n",
    "plt.plot(x,z)\n",
    "plt.xlabel(\"x (unit of x)\")\n",
    "plt.ylabel(\"y (unit of y)\")\n",
    "plt.title('Plot of y, y2 & z vs x')\n",
    "\n",
    "plt.savefig(\"My-pretty-plot.png\", bbox_inches='tight')\n",
    "plt.savefig(\"p:/My-pretty-plot.pdf\", bbox_inches='tight')\n",
    "#bbox='tight' makes sure that the caption is incorporated in the image that is saved."
   ]
  },
  {
   "cell_type": "code",
   "execution_count": null,
   "metadata": {
    "collapsed": true
   },
   "outputs": [],
   "source": [
    "# Now add a legend to the figure.\n"
   ]
  },
  {
   "cell_type": "markdown",
   "metadata": {},
   "source": [
    "<h3>Extra: add timestamp and user data!</h3>\n",
    "It is common practice to add timestamp data and userdata to the names of the figures."
   ]
  },
  {
   "cell_type": "code",
   "execution_count": null,
   "metadata": {
    "collapsed": true
   },
   "outputs": [],
   "source": [
    "#plt.figure()\n",
    "plt.plot(x,y)\n",
    "plt.plot(x,y2)\n",
    "plt.plot(x,z)\n",
    "plt.xlabel(\"x (unit of x)\")\n",
    "plt.ylabel(\"y (unit of y)\")\n",
    "plt.title('Plot of y, y2 & z vs x')\n",
    "#plt.figtext(0,-0.1,'Figure #.. Plot of y, y2 & z vs x.\\nNotice the spots where the three graphs touch or intersect!')\n",
    "# Putting \\n in the text makes sure that the subsequent text is put on a new line.\n",
    "\n",
    "# Usually we want our filenames to be timestamped!\n",
    "# Make sure that we get date and time into the filename properly.\n",
    "time = str(datetime.now())\n",
    "#print(now)\n",
    "timeformatted = time.replace(\":\",\"-\")[0:19]\n",
    "#print(nowformatted)\n",
    "space = \" \"\n",
    "filename = \"My-pretty-plot\"\n",
    "usernames = \"s2019007 & s2019008\"\n",
    "fullfilename = timeformatted + space + filename + space + usernames\n",
    "dir = \"p:/\"\n",
    "extension1 = \".png\"\n",
    "extension2 = \".pdf\"\n",
    "plt.savefig(fullfilename + extension1, bbox_inches='tight')\n",
    "plt.savefig(dir + fullfilename + extension2, bbox_inches='tight')\n",
    "# bbox_inches='tight' makes sure that the caption is incorporated in the image that is saved."
   ]
  },
  {
   "cell_type": "markdown",
   "metadata": {},
   "source": [
    "Note that it is a good habit to store the python code you used to create a figure together with the figure. This way you will be able to edit the figure at a later time. \n",
    "\n",
    "## Enjoy making pretty plots!"
   ]
  },
  {
   "cell_type": "code",
   "execution_count": null,
   "metadata": {
    "collapsed": true
   },
   "outputs": [],
   "source": []
  }
 ],
 "metadata": {
  "kernelspec": {
   "display_name": "Python 3",
   "language": "python",
   "name": "python3"
  },
  "language_info": {
   "codemirror_mode": {
    "name": "ipython",
    "version": 3
   },
   "file_extension": ".py",
   "mimetype": "text/x-python",
   "name": "python",
   "nbconvert_exporter": "python",
   "pygments_lexer": "ipython3",
   "version": "3.5.3"
  }
 },
 "nbformat": 4,
 "nbformat_minor": 2
}
