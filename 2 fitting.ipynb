{
 "cells": [
  {
   "cell_type": "markdown",
   "metadata": {},
   "source": [
    "# Fitting data in Python "
   ]
  },
  {
   "cell_type": "markdown",
   "metadata": {},
   "source": [
    "After this short tutorial, you will be able to do the following things in Python:\n",
    "* define a linear function\n",
    "* fit a curve to some data using curve_fit"
   ]
  },
  {
   "cell_type": "markdown",
   "metadata": {},
   "source": [
    "## Jupyter\n",
    "\n",
    "Before we get started first some information about using Jupyter notebooks. The notebook consists of \n",
    "different blocks of python code which we call cells. Using the arrow keys you can select a cell.\n",
    "\n",
    "Sometimes you will have to edit the code in the cells.\n",
    "To edit the contents of a cell click somewhere in the code of the cell. To execute the code press <b>CTRL+Enter</b>.\n",
    "\n",
    "<i>All keyboard shortcuts can be found by pressing the small keyboard in the menu bar. Many of these functions are also accessible using the mouse and the menu bar. Moving the cursor to a function and pressing shift+tab gives information about the function.</i>"
   ]
  },
  {
   "cell_type": "markdown",
   "metadata": {},
   "source": [
    "## The actual program\n",
    "Here we clear all variables and import some packages which we will use later on (select the cell below and press <b>CTRL+Enter</b> to run it). You do not need to understand this yet. You will learn what this means during your Python course in the first year or you can read the comments for some explanation or explore the accompanying websites: http://numpy.org/ & https://matplotlib.org/3.1.1/tutorials/introductory/pyplot.html & https://docs.scipy.org/doc/scipy/reference/generated/scipy.optimize.curve_fit.html."
   ]
  },
  {
   "cell_type": "code",
   "execution_count": null,
   "metadata": {},
   "outputs": [],
   "source": [
    "# Clear all variables\n",
    "\n",
    "%clear\n",
    "\n",
    "# One major feature of the IPython kernel is the ability to display plots that are the output of running code cells.\n",
    "# The IPython kernel is designed to work seamlessly with the matplotlib plotting library to provide this functionality.\n",
    "# To set this up, before any plotting or import of matplotlib is performed you must execute the %matplotlib magic command.\n",
    "# This performs the necessary behind-the-scenes setup for IPython to work correctly hand in hand with matplotlib;\n",
    "# It does not, however, actually execute any Python import commands, that is, no names are added to the namespace.\n",
    "\n",
    "%matplotlib inline\n",
    "\n",
    "# Numpy is the fundamental package for scientific computing with Python: http://numpy.org/\n",
    "# Numpy provides support to mathematically manipulate large, multi-dimensional arrays and matrices.\n",
    "# By importing this library in this way you can call all functions of numpy with the abbreviation np:\n",
    "# For example, np.arange to place a series of numbers in an array.\n",
    "\n",
    "import numpy as np\n",
    "\n",
    "# Throughout your studies you will most likely use matplotlib.pyplot to plot any graph you need to\n",
    "# illustrate your research: https://matplotlib.org/3.1.1/tutorials/introductory/pyplot.html\n",
    "# matplotlib.pyplot is a collection of command style functions that make matplotlib work like MATLAB.\n",
    "# Each pyplot function makes some change to a figure: e.g., creates a figure, creates a plotting area in a figure,\n",
    "# plots some lines in a plotting area, decorates the plot with labels, etc.\n",
    "\n",
    "import matplotlib.pyplot as plt\n",
    "\n",
    "# We use the datetime library so we can easily add a datestamp to the names of the figures we are going to save.\n",
    "\n",
    "from datetime import datetime\n",
    "\n",
    "from scipy.optimize import curve_fit\n",
    "\n",
    "# Now press CTRL+Enter to run this part of the code."
   ]
  },
  {
   "cell_type": "markdown",
   "metadata": {},
   "source": [
    "In the previous tutorials we have seen how to import data and how to plot those data:"
   ]
  },
  {
   "cell_type": "code",
   "execution_count": null,
   "metadata": {},
   "outputs": [],
   "source": [
    "filename =  \"201809Voorbeeldvervaltijdreelefout.csv\"\n",
    "\n",
    "mydata = np.loadtxt(filename, delimiter=\",\")\n",
    "time=mydata[:,0]\n",
    "R=mydata[:,1]\n",
    "timeerror=mydata[:,2]\n",
    "Rerror=mydata[:,3]\n",
    "\n",
    "plt.figure()\n",
    "plt.errorbar(time,R,xerr=timeerror,yerr=Rerror,capsize=2,elinewidth=0.5,fmt=\"o\")\n",
    "plt.xlabel(\"Time (s)\")\n",
    "plt.ylabel(\"Resistance (Ohm)\")\n",
    "plt.title('Resistance vs Time')\n",
    "#plt.figtext(0,-0.05,'Figure #.. Plot of Resistance vs Time. Notice the possibly exponential decay.')"
   ]
  },
  {
   "cell_type": "markdown",
   "metadata": {},
   "source": [
    "Often we have some expectation from theory about the relation between two quantities. For instance, the theory might predict an exponential relation between two quantities: \\begin{equation*}I = I_0 \\cdot e^{-t/t_0}\\end{equation*} In an experiment, we often want to see two things. First, we want to know whether the theory does indeed describe the experiment. Secondly, we would like to know the values of the parameters in the theory. In this case the values for $I_0$ and $t_0$.\n",
    "\n",
    "To this end, we try to create a curve given by the relation predicted by theory, which closely follows the experimental data points. This procedure is called fitting.\n",
    "\n",
    "Before we can do the actual fit, we have to define a function that describes the theory. We have seen before that in python a function is something that accepts arguments and can return a value. Here we define our own function. The function accepts three variables and returns a value calculated with these variables.\n",
    "\n",
    "To be able to see whether the function describes the experiment it is necessary to linearize your data because one can't tell whether a graph of the data is exactly exponential (or any other non-linear function), or not. However, one can tell by looking at a graph whether it is roughly linear or not.\n",
    "\n",
    "To linearize your data, see section 0.9.2 in the lab manual. For example in the case of \\begin{equation*}I = I_0 \\cdot e^{-t/t_0}\\end{equation*} one would not use $I$ and $t$ to do the curve_fit but instead we would use $ln(I)$ and $t$ which should have a linear relationship if the theory is correct. <i> One can check this by taking the natural logarithm of both sides of the equation: \\begin{equation*}ln(I) = ln(I_0 \\cdot e^{-t/t_0})\\end{equation*}\n",
    "\\begin{equation*}ln(I) = -(1/t_0) \\cdot t + ln(I_0)\\end{equation*}\n",
    "This function is linear in $t$ with $a = -(1/t_0)$ and $b = ln(I_0)$.\n",
    "\n",
    "So to do a proper fit we will always use a linear function. We need to define that function first."
   ]
  },
  {
   "cell_type": "code",
   "execution_count": null,
   "metadata": {},
   "outputs": [],
   "source": [
    "# Here we define a function. We will always use a linear function.\n",
    "# If your data is not linear, linearize it: see section 0.9.2 from the lab manual.\n",
    "def linear_function(x,a,b):\n",
    "    return a*x + b\n",
    "\n",
    "# Here we test the new function\n",
    "y=linear_function(1,2,3)\n",
    "print(y)"
   ]
  },
  {
   "cell_type": "markdown",
   "metadata": {},
   "source": [
    "To make a fit we use the function curve_fit, which we imported in the first cell. The arguments for curve_fit are the function we would like to fit to, the x variables and the y variables.\n",
    "\n",
    "The function curve_fit returns an array with optimal parameters popt and an array with covariances pcov."
   ]
  },
  {
   "cell_type": "code",
   "execution_count": null,
   "metadata": {},
   "outputs": [],
   "source": [
    "# Here we calculate the optimal parameters\n",
    "popt, pcov = curve_fit(linear_function, time, R,sigma=Rerror)\n",
    "\n",
    "# Here we print the equation for the fitted curve\n",
    "afit=popt[0]\n",
    "bfit=popt[1]\n",
    "print(\"yfit = \"+str(afit)+\" * t + \"+str(bfit))"
   ]
  },
  {
   "cell_type": "markdown",
   "metadata": {},
   "source": [
    "To see whether the fit makes any sense we can plot it together with the original curve."
   ]
  },
  {
   "cell_type": "code",
   "execution_count": null,
   "metadata": {},
   "outputs": [],
   "source": [
    "# Here we calculate the yvalues \n",
    "yfit = linear_function(time,afit,bfit)\n",
    "\n",
    "plt.figure()\n",
    "plt.errorbar(time,R,xerr=timeerror,yerr=Rerror,capsize=2,elinewidth=0.5,fmt=\"o\")\n",
    "plt.plot(time,yfit) #here we plot the fitted curve\n",
    "plt.xlabel(\"Time (s)\")\n",
    "plt.ylabel(\"Resistance (Ohm)\")"
   ]
  },
  {
   "cell_type": "markdown",
   "metadata": {},
   "source": [
    "We also would like to know what the error on the fit parameters is. The curve_fit function also returned the variable pcov. This is the so called covariance matrix. On the diagonal of this matrix you can find the variance of the fit parameters. The variance is the square of the standard deviation. Therefore:"
   ]
  },
  {
   "cell_type": "code",
   "execution_count": null,
   "metadata": {},
   "outputs": [],
   "source": [
    "variance_a = pcov[0,0]\n",
    "variance_b = pcov[1,1]\n",
    "\n",
    "sigma_a = np.sqrt(variance_a)\n",
    "sigma_b = np.sqrt(variance_b)\n",
    "\n",
    "print(\"f = a * x + b\")\n",
    "print(\"with\")\n",
    "print(\"a = \"+str(afit)+\" ± \"+str(sigma_a))\n",
    "print(\"b = \"+str(bfit)+\" ± \"+str(sigma_b))"
   ]
  },
  {
   "cell_type": "markdown",
   "metadata": {},
   "source": [
    "Even though the fit will come up with neat numbers for the fit, from the graph you can clearly tell that a linear fit does not work in this case.\n",
    "\n",
    "We therefore need to manipulate the data (according to an underlying theory) to make the data linear. Since in this case we expect an exponential decay we can linearize the data by plotting $ln(R)$ against $Time$."
   ]
  },
  {
   "cell_type": "code",
   "execution_count": null,
   "metadata": {
    "collapsed": true
   },
   "outputs": [],
   "source": [
    "# Manipulate the data and the accompanying errors to make it linear.\n",
    "\n",
    "lnR = np.log(R)\n",
    "lnRerror = (1/R)*Rerror"
   ]
  },
  {
   "cell_type": "code",
   "execution_count": null,
   "metadata": {},
   "outputs": [],
   "source": [
    "# Here we calculate the optimal parameters\n",
    "popt, pcov = curve_fit(linear_function, time, lnR,sigma=lnRerror)\n",
    "\n",
    "# Here we print the equation for the fitted curve\n",
    "afit=popt[0]\n",
    "bfit=popt[1]\n",
    "print(\"yfit = \"+str(afit)+\" * t + \"+str(bfit))"
   ]
  },
  {
   "cell_type": "code",
   "execution_count": null,
   "metadata": {},
   "outputs": [],
   "source": [
    "# Here we calculate the yvalues \n",
    "yfit = linear_function(time,afit,bfit)\n",
    "\n",
    "plt.figure()\n",
    "plt.errorbar(time,lnR,xerr=timeerror,yerr=lnRerror,capsize=2,elinewidth=0.5,fmt=\"o\")\n",
    "plt.plot(time,yfit) #here we plot the fitted curve\n",
    "plt.xlabel(\"Time (s)\")\n",
    "plt.ylabel(\"ln(Resistance) (ln(Ohm)\")"
   ]
  },
  {
   "cell_type": "markdown",
   "metadata": {},
   "source": [
    "<b>Check whether the linear fit now neatly follows the data.</b>"
   ]
  },
  {
   "cell_type": "code",
   "execution_count": null,
   "metadata": {},
   "outputs": [],
   "source": [
    "variance_a = pcov[0,0]\n",
    "variance_b = pcov[1,1]\n",
    "\n",
    "sigma_a = np.sqrt(variance_a)\n",
    "sigma_b = np.sqrt(variance_b)\n",
    "\n",
    "print(\"f = a * x + b\")\n",
    "print(\"with\")\n",
    "print(\"a = \"+str(afit)+\" ± \"+str(sigma_a))\n",
    "print(\"b = \"+str(bfit)+\" ± \"+str(sigma_b))"
   ]
  },
  {
   "cell_type": "markdown",
   "metadata": {},
   "source": [
    "<b>Note that the errors in the returned values should now be much smaller than before!</b>"
   ]
  },
  {
   "cell_type": "markdown",
   "metadata": {},
   "source": [
    "Also note that python returns values with many insignificant numbers and without units. Make sure that you report the values in the correct significant numbers and units in your labjournal/report.<BR>\n",
    "<i>The error should never have more than 1 significant digit and the calculated value should be rounded off to the position of that error digit.</i>"
   ]
  },
  {
   "cell_type": "markdown",
   "metadata": {},
   "source": [
    "<b>Now finish this fitprocedure and calculate the values of $t_0$ and $I_0$ for this data and their errors!</b>"
   ]
  },
  {
   "cell_type": "code",
   "execution_count": null,
   "metadata": {
    "collapsed": true
   },
   "outputs": [],
   "source": [
    "# Your code here:\n"
   ]
  },
  {
   "cell_type": "markdown",
   "metadata": {
    "collapsed": true
   },
   "source": [
    "## Happy fitting!"
   ]
  }
 ],
 "metadata": {
  "kernelspec": {
   "display_name": "Python 3",
   "language": "python",
   "name": "python3"
  },
  "language_info": {
   "codemirror_mode": {
    "name": "ipython",
    "version": 3
   },
   "file_extension": ".py",
   "mimetype": "text/x-python",
   "name": "python",
   "nbconvert_exporter": "python",
   "pygments_lexer": "ipython3",
   "version": "3.5.3"
  }
 },
 "nbformat": 4,
 "nbformat_minor": 2
}
