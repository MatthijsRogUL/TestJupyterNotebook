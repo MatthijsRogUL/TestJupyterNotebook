{
 "cells": [
  {
   "cell_type": "markdown",
   "metadata": {},
   "source": [
    "# Importing data, plotting data with error bars, and exporting data in Python "
   ]
  },
  {
   "cell_type": "markdown",
   "metadata": {},
   "source": [
    "After this short tutorial, you will be able to do the following things in Python:\n",
    "\n",
    "* import data\n",
    "* plot data with error bars\n",
    "* manipulate data\n",
    "* propagate errors\n",
    "* save data"
   ]
  },
  {
   "cell_type": "markdown",
   "metadata": {},
   "source": [
    "## Jupyter\n",
    "\n",
    "Before we get started first some information about using Jupyter notebooks. The notebook consists of \n",
    "different blocks of python code which we call cells. Using the arrow keys you can select a cell.\n",
    "\n",
    "Sometimes you will have to edit the code in the cells.\n",
    "To edit the contents of a cell click somewhere in the code of the cell. To execute the code press <b>CTRL+Enter</b>.\n",
    "\n",
    "<i>All keyboard shortcuts can be found by pressing the small keyboard in the menu bar. Many of these functions are also accessible using the mouse and the menu bar. Moving the cursor to a function and pressing shift+tab gives information about the function.</i>"
   ]
  },
  {
   "cell_type": "markdown",
   "metadata": {},
   "source": [
    "## The actual program\n",
    "Here we clear all variables and import some packages which we will use later on (select the cell below and press <b>CTRL+Enter</b> to run it). You do not need to understand this yet. You will learn what this means during your Python course in the first year or you can read the comments for some explanation or explore the accompanying websites: http://numpy.org/ & https://matplotlib.org/3.1.1/tutorials/introductory/pyplot.html."
   ]
  },
  {
   "cell_type": "code",
   "execution_count": null,
   "metadata": {
    "collapsed": true
   },
   "outputs": [],
   "source": [
    "# Clear all variables\n",
    "\n",
    "%clear\n",
    "\n",
    "# One major feature of the IPython kernel is the ability to display plots that are the output of running code cells.\n",
    "# The IPython kernel is designed to work seamlessly with the matplotlib plotting library to provide this functionality.\n",
    "# To set this up, before any plotting or import of matplotlib is performed you must execute the\n",
    "# %matplotlib magic command.\n",
    "# This performs the necessary behind-the-scenes setup for IPython to work correctly hand in hand with matplotlib;\n",
    "# It does not, however, actually execute any Python import commands, that is, no names are added to the namespace.\n",
    "\n",
    "%matplotlib inline\n",
    "\n",
    "# Numpy is the fundamental package for scientific computing with Python: http://numpy.org/\n",
    "# Numpy provides support to mathematically manipulate large, multi-dimensional arrays and matrices.\n",
    "# By importing this library in this way you can call all functions of numpy with the abbreviation np:\n",
    "# For example, np.arange to place a series of numbers in an array.\n",
    "\n",
    "import numpy as np\n",
    "\n",
    "# Throughout your studies you will most likely use matplotlib.pyplot to plot any graph you need to\n",
    "# illustrate your research: https://matplotlib.org/3.1.1/tutorials/introductory/pyplot.html\n",
    "# matplotlib.pyplot is a collection of command style functions that make matplotlib work like MATLAB.\n",
    "# Each pyplot function makes some change to a figure: e.g., creates a figure, creates a plotting area in a figure,\n",
    "# plots some lines in a plotting area, decorates the plot with labels, etc.\n",
    "\n",
    "import matplotlib.pyplot as plt\n",
    "\n",
    "# We use the datetime library so we can easily add a datestamp to the names of the figures we are going to save.\n",
    "\n",
    "from datetime import datetime\n",
    "\n",
    "# Now press CTRL+Enter to run this part of the code."
   ]
  },
  {
   "cell_type": "markdown",
   "metadata": {},
   "source": [
    "<h3>Import data</h3>\n",
    "Here we assign the name of our file to a variable called filename. Edit the cell to assign the filename of your data file to the variable filename. Make sure the filename is the complete filename of the file you want to import.\n",
    "Python will look for this file in the folder where the jupyter notebook is being executed. You can also specify an absolute path."
   ]
  },
  {
   "cell_type": "code",
   "execution_count": null,
   "metadata": {
    "collapsed": true
   },
   "outputs": [],
   "source": [
    "filename =  \"201809Voorbeeldvervaltijdreelefout.csv\"\n",
    "# In dit bestand staan in de 1e kolom (kolom 0) de tijddata, in de 2e kolom (kolom 1) de weerstandswaarden,\n",
    "# in de 3e kolom (kolom 2) de fout in de tijd, en in de 4e kolom (kolom 3) de fout in de weerstandswaarde."
   ]
  },
  {
   "cell_type": "markdown",
   "metadata": {},
   "source": [
    "We already encountered numpy arrays before. We used a 1-dimensional array to store a range of values. Numpy arrays can have more than one dimension. Here we use the function np.loadtxt to import the data from your data file and assign the resulting numpy array to the variable mydata. \n",
    "\n",
    "The function np.loadtxt takes two arguments. The first is the filename and the second is the delimiter (the sign separating the entries in your data file)."
   ]
  },
  {
   "cell_type": "code",
   "execution_count": null,
   "metadata": {
    "collapsed": true
   },
   "outputs": [],
   "source": [
    "mydata = np.loadtxt(filename, delimiter=\",\")"
   ]
  },
  {
   "cell_type": "markdown",
   "metadata": {},
   "source": [
    "Edit the next cell and use the print function to show the value\n",
    "of the variable mydata"
   ]
  },
  {
   "cell_type": "code",
   "execution_count": null,
   "metadata": {
    "collapsed": true
   },
   "outputs": [],
   "source": [
    "print(mydata)"
   ]
  },
  {
   "cell_type": "markdown",
   "metadata": {},
   "source": [
    "You can select a single data point from a numpy array by using square brackets. Typing mydata[4,2] gives the entry at row 4 and column 2 (note that the first row and column have the number 0). To select all columns or all rows, you can use the : sign. mydata[0,:] gives all entries in the first row. "
   ]
  },
  {
   "cell_type": "markdown",
   "metadata": {},
   "source": [
    "The values for the variable $time$ are contained in the first column and the values of the variable $V$ are contained in the second column of the .csv-file."
   ]
  },
  {
   "cell_type": "code",
   "execution_count": null,
   "metadata": {
    "collapsed": true
   },
   "outputs": [],
   "source": [
    "# The time data are taken from the 1st column of the .csv-file.\n",
    "time=mydata[:,0]\n",
    "# The resistance data are taken from the 2nd column of the .csv-file.\n",
    "V=mydata[:,1]"
   ]
  },
  {
   "cell_type": "markdown",
   "metadata": {},
   "source": [
    "<h3>Plot data with error bars</h3>\n",
    "We could plot the data using plt.plot. However, because we want to use error bars, we use plt.errorbar instead. This function is similar to plt.plot, but allows for simple plotting of errorbars.\n",
    "\n",
    "The argument fmt=\"o\" sets the format of the datapoints and line. See the documentation for errorbar (https://matplotlib.org/3.1.1/api/_as_gen/matplotlib.pyplot.errorbar.html), for the allowed inputs. When plotting measurement data, we typically do not plot a line connecting the datapoints. This is because such a line suggests that we have information about the points between our measurements. \n",
    "\n",
    "What we typically do show is a curve representing the theoretical expectations or fitted data. In the next notebook (2. fitting) we will discuss how to plot such a fitted curve."
   ]
  },
  {
   "cell_type": "code",
   "execution_count": null,
   "metadata": {
    "collapsed": true,
    "scrolled": true
   },
   "outputs": [],
   "source": [
    "plt.figure()\n",
    "timeerror=0.05\n",
    "Verror=5\n",
    "plt.errorbar(time,V,xerr=timeerror,yerr=Verror,fmt=\"o\")\n",
    "\"\"\"The argument fmt=\"o\" is added\n",
    "so we do not get an unmeasured (and thus undesired) linegraph through our measuring points!\"\"\" "
   ]
  },
  {
   "cell_type": "markdown",
   "metadata": {},
   "source": [
    "We can also use the error data from the file."
   ]
  },
  {
   "cell_type": "code",
   "execution_count": null,
   "metadata": {
    "collapsed": true
   },
   "outputs": [],
   "source": [
    "# The time and resistance data have not been manipulated so they can be used as they are.\n",
    "# You will notice that the errors in the graph look much more realistic now.\n",
    "timeerror = mydata[:,2]\n",
    "Verror = mydata[:,3]\n",
    "plt.errorbar(time,V,xerr=timeerror,yerr=Verror,fmt=\"o\")"
   ]
  },
  {
   "cell_type": "markdown",
   "metadata": {},
   "source": [
    "<h3>Manipulate data & Propagate errors from a function</h3>\n",
    "We can apply all kinds of mathematical operations to the data. For instance if $V$ is the voltage over a Wheatstone bridge and the resistance is given by $R = 5 * V^2$, we can define a new variable $R$ and its error using $y_{error}=dy/dx * x_{error}$:\n",
    "\n",
    "<i>Of course we already know the equation for $R$ is wrong but we will use this equation as an exercise. You may use the correct equation here as well.</i>"
   ]
  },
  {
   "cell_type": "code",
   "execution_count": null,
   "metadata": {
    "collapsed": true
   },
   "outputs": [],
   "source": [
    "# Calculating R is quite easy\n",
    "R = 5*V**2\n",
    "# Calculating the propagated error in R is more difficult. We now need the error propagation formula:\n",
    "# error y = dy/dx * error x\n",
    "Rerror = 10*V\n",
    "# And now we can plot an R vs time graph with correct errorbars.\n",
    "plt.errorbar(time,R,xerr=timeerror,yerr=Rerror,fmt=\"o\")"
   ]
  },
  {
   "cell_type": "markdown",
   "metadata": {},
   "source": [
    "This shows the plot with errorbars, but they are rather ugly. To make a nicer figure, we create a new figure and add some extra arguments to the plt.errorbar function. \n",
    "\n",
    "Note that you can use <b>Tab</b> for completion suggestions while typing or <b>Shift+Tab</b> to see extra information about a function. Edit the cell below, move your cursor between the parentheses after the word <b>errorbar</b> and press <b>Shift+Tab</b>. Play around with the various extra options."
   ]
  },
  {
   "cell_type": "code",
   "execution_count": null,
   "metadata": {
    "collapsed": true
   },
   "outputs": [],
   "source": [
    "plt.figure()\n",
    "plt.errorbar(time,R,xerr=timeerror,yerr=Rerror,capsize=2,elinewidth=0.5,fmt=\"o\")\n",
    "plt.xlabel(\"x (-)\")\n",
    "plt.ylabel(\"y (-)\")\n",
    "plt.title('Lineaire relatie')\n",
    "\n",
    "#plt.savefig(\"My-favorite-figure.jpg\", bbox_inches='tight')\n",
    "plt.savefig(\"My-favorite-figure.pdf\", bbox_inches='tight')\n",
    "\n",
    "# You may add the timestamp and names variables to the filename as done in notebook 0.plotting."
   ]
  },
  {
   "cell_type": "markdown",
   "metadata": {},
   "source": [
    "If you want to use $R$ to derive further variables you can of course continue in a similar manner."
   ]
  },
  {
   "cell_type": "code",
   "execution_count": null,
   "metadata": {
    "collapsed": true
   },
   "outputs": [],
   "source": [
    "# Manipulate the data and plot any other variables derived from the data including its errors.\n"
   ]
  },
  {
   "cell_type": "markdown",
   "metadata": {},
   "source": [
    "<h3>Manipulate data & Propagate errors from a calibration graph</h3>\n",
    "Sometimes you will not have an equation to calculate derived variables but you will need to use a calibration graph.\n",
    "<ul>\n",
    "<li>One option would be to fit a function to the calibration graph correctly and use the fitted function to calculate the new variable. Once you have established the fit-function you can continue in the same way as before.</li>\n",
    "<li>The other option would be to read out the calibration graph for the various values of $R$ and add those to your data. To calculate the error in the new variable you need to use the slope of the calibration graph: $dy/dx$ in $y_{error}=dy/dx * x_{error}$.</li>\n",
    "</ul>\n",
    "Plots of calibration graphs for various transducers follow below. Choose a suitable one to practice with.\n",
    "<img src=\"cg1.png\"><img src=\"cg2.png\"><img src=\"cg3.png\"><img src=\"cg4.png\">"
   ]
  },
  {
   "cell_type": "code",
   "execution_count": null,
   "metadata": {
    "collapsed": true
   },
   "outputs": [],
   "source": [
    "# If you choose option 2, you don't want to read the calibration graph for so many points.\n",
    "# Best thing to do is to take a slice of your data:\n",
    "# This takes R[0], R[2], R[4], etc., until there is no more data.\n",
    "Rnew = R[::2]\n",
    "# Don't forget to do the same for every other quantity that you want to combine it with.\n",
    "timenew = time[::2]\n",
    "Rerrornew = Rerror[::2]\n",
    "timeerrornew = timeerror[::2]\n",
    "# You can print the new data to check it.\n",
    "print(Rnew, timenew, Rerrornew,timeerrornew)\n",
    "\n",
    "# Next thing you need to do is to read MeasuredQuantity from the calibration graph and assign them to a new array.\n",
    "MeasuredQuantity = [12, 8, 6, 4] # e.g. as read from the calibration graph and the same number of elements as Rnew.\n",
    "\n",
    "# Next you need to calculate the error in your MeasuredQuantity by using the slope of the calibration graph\n",
    "# Combine it with the original error in R to get your new error: yerror = (dy/dx) ∗ xerror.\n",
    "# Note that this may ask for quite some mathematical effort to accomplish, especially in log-plots!\n",
    "MeasuredQuantityerror = [0.04, 0.03, 0.025, 0.01]\n",
    "\n",
    "# Now you can manipulate the new arrays further or plot them any which way you want."
   ]
  },
  {
   "cell_type": "markdown",
   "metadata": {},
   "source": [
    "<h3>Save data</h3>\n",
    "To save the Electric Field data that we have calculated together with the original time and resistance data, we can use np.savetxt."
   ]
  },
  {
   "cell_type": "code",
   "execution_count": null,
   "metadata": {
    "collapsed": true
   },
   "outputs": [],
   "source": [
    "myoutputdata=np.array([time,V,R, timeerror, Verror, Rerror]).transpose()\n",
    "header=\"time(s), V (V), R (Ohm), time error (s), V error (Volt), R error (Ohm)\"\n",
    "np.savetxt(\"myoutputfile.csv\",myoutputdata,delimiter=\",\", header=header)\n",
    "\n",
    "# Remember that the new data has a different number of elements and should be put in a separate output-file.\n",
    "mynewoutputdata=np.array([timenew,Rnew,MeasuredQuantity,timeerrornew, Rerrornew, MeasuredQuantityerror]).transpose()\n",
    "header=\"time(s), R (Ohm), MeasuredQuantity (...), time error (s), R error (Ohm), MeasuredQuantity error (...)\"\n",
    "np.savetxt(\"mynewoutputfile.csv\",mynewoutputdata,delimiter=\",\", header=header)\n",
    "\n",
    "# Again, one should consider to put timestamp data and user data into the filename."
   ]
  },
  {
   "cell_type": "markdown",
   "metadata": {},
   "source": [
    "Some notes:\n",
    "* np.savetxt overwrites any existing files without asking\n",
    "* When performing data analysis, never alter the original measurement data. Therefore store the results of your analysis in a different file than that of your original data.\n",
    "* Keep track of which scripts, figures and datafiles belong to which experiment in your labjournal. You should be able to find back the digital files which belong to a certain lab journal entry and the other way around. \n",
    "* Consider using date, time and usernames in your filenames."
   ]
  },
  {
   "cell_type": "markdown",
   "metadata": {
    "collapsed": true
   },
   "source": [
    "## Enjoy analyzing data!"
   ]
  }
 ],
 "metadata": {
  "kernelspec": {
   "display_name": "Python 3",
   "language": "python",
   "name": "python3"
  },
  "language_info": {
   "codemirror_mode": {
    "name": "ipython",
    "version": 3
   },
   "file_extension": ".py",
   "mimetype": "text/x-python",
   "name": "python",
   "nbconvert_exporter": "python",
   "pygments_lexer": "ipython3",
   "version": "3.5.3"
  }
 },
 "nbformat": 4,
 "nbformat_minor": 2
}
